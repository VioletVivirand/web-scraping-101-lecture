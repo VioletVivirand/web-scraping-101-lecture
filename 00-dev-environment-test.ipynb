{
 "cells": [
  {
   "cell_type": "code",
   "execution_count": null,
   "id": "857fe421-e979-40c1-9e9a-84eb80d46076",
   "metadata": {},
   "outputs": [],
   "source": [
    "import platform\n",
    "import requests"
   ]
  },
  {
   "cell_type": "markdown",
   "id": "97735b0a-9738-4985-be04-ca074c95a46e",
   "metadata": {},
   "source": [
    "# Lecture 0: Get Familiar with your Development Environment"
   ]
  },
  {
   "cell_type": "markdown",
   "id": "248f79bb-2b8b-4187-8af4-e1d21c4bd161",
   "metadata": {},
   "source": [
    "Take a look into system information:"
   ]
  },
  {
   "cell_type": "code",
   "execution_count": null,
   "id": "42156b38-5b7f-4ad7-94fd-05b5df6cb65e",
   "metadata": {},
   "outputs": [],
   "source": [
    "# Print System Specs\n",
    "print(f\"Architecture = {platform.machine()}\")\n",
    "print(f\"CPU = {platform.processor()}\")\n",
    "print(f\"Python Version = {platform.python_version()}\")\n",
    "print(f\"uname = {platform.uname()}\")"
   ]
  },
  {
   "cell_type": "markdown",
   "id": "b0496e5c-eacb-4a08-b5db-f960fd0e434d",
   "metadata": {},
   "source": [
    "Now let's verify if the Internection connection is working or not:"
   ]
  },
  {
   "cell_type": "code",
   "execution_count": null,
   "id": "213ff131-33bc-40ab-9c48-77cb587cbe0d",
   "metadata": {},
   "outputs": [],
   "source": [
    "r = requests.get(\"https://httpbin.org/get\")\n",
    "\n",
    "if r.ok:\n",
    "    print(r.text)"
   ]
  },
  {
   "cell_type": "markdown",
   "id": "dc970e4f-8582-4c13-b29d-216c7337d65d",
   "metadata": {},
   "source": [
    "Finally, let's fix the Markdown cell, and open a picture with Markdown markups!"
   ]
  },
  {
   "cell_type": "markdown",
   "id": "b6149ae8-0bf1-4234-96b1-6841c85ee2f1",
   "metadata": {},
   "source": [
    "Put a exclamation mark (`!`) at the beginning of the next paragraph:\n",
    "\n",
    "[Pikachu](https://raw.githubusercontent.com/PokeAPI/sprites/master/sprites/pokemon/other/official-artwork/25.png)"
   ]
  },
  {
   "cell_type": "code",
   "execution_count": null,
   "id": "8243ad33-324e-405f-bd4e-49e2762097c0",
   "metadata": {},
   "outputs": [],
   "source": []
  }
 ],
 "metadata": {
  "kernelspec": {
   "display_name": "Python 3 (ipykernel)",
   "language": "python",
   "name": "python3"
  },
  "language_info": {
   "codemirror_mode": {
    "name": "ipython",
    "version": 3
   },
   "file_extension": ".py",
   "mimetype": "text/x-python",
   "name": "python",
   "nbconvert_exporter": "python",
   "pygments_lexer": "ipython3",
   "version": "3.12.2"
  }
 },
 "nbformat": 4,
 "nbformat_minor": 5
}
