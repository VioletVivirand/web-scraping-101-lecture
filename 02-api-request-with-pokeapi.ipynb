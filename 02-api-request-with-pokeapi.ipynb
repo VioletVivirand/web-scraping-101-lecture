{
 "cells": [
  {
   "cell_type": "code",
   "execution_count": 1,
   "id": "da605572-8e3b-4156-a136-f02e33b4be3d",
   "metadata": {},
   "outputs": [],
   "source": [
    "import requests\n",
    "import json"
   ]
  },
  {
   "cell_type": "markdown",
   "id": "7dc6d284-4674-4ecd-86c4-80a8a66254b5",
   "metadata": {},
   "source": [
    "# Lecture 2: Make a HTTP Request to Pokémon API"
   ]
  },
  {
   "cell_type": "markdown",
   "id": "6446b5fa-9e89-44b1-9a4c-a512c6ee6875",
   "metadata": {},
   "source": [
    "Time to get the data from a RESTful API. With [PokéAPI](https://pokeapi.co), we can almost get every information about Pokémon."
   ]
  },
  {
   "cell_type": "markdown",
   "id": "f25fc9be-aa82-4e07-b7d0-7b7baa2a4a17",
   "metadata": {},
   "source": [
    "## Send a HTTP Request to get the Data from API"
   ]
  },
  {
   "cell_type": "markdown",
   "id": "c83ecc66-1a46-4098-923e-9d365ff0e1f5",
   "metadata": {},
   "source": [
    "We try with the official example to fetch [Ditto](https://wiki.52poke.com/zh-hant/百变怪)'s information."
   ]
  },
  {
   "cell_type": "code",
   "execution_count": 2,
   "id": "0463d125-3da0-4cc7-9917-ed1bee44786f",
   "metadata": {},
   "outputs": [],
   "source": [
    "# Specify the endpoint to fetch\n",
    "ENDPOINT = \"https://pokeapi.co/api/v2/pokemon/ditto\""
   ]
  },
  {
   "cell_type": "code",
   "execution_count": 3,
   "id": "b5e7128f-4540-4984-9b37-290a0b154959",
   "metadata": {},
   "outputs": [],
   "source": [
    "# Make a HTTP request to fetch the data\n",
    "r = requests.get(ENDPOINT)\n",
    "\n",
    "if r.ok:\n",
    "    body = r.text\n",
    "else:\n",
    "    raise"
   ]
  },
  {
   "cell_type": "code",
   "execution_count": 4,
   "id": "c7089a38-aef0-4386-bf82-a29eb50c0e42",
   "metadata": {},
   "outputs": [
    {
     "data": {
      "text/plain": [
       "'{\"abilities\":[{\"ability\":{\"name\":\"limber\",\"url\":\"https://pokeapi.co/api/v2/ability/7/\"},\"is_hidden\":false,\"slot\":1},{\"ability\":{\"name\":\"imposter\",\"url\":\"https://pokeapi.co/api/v2/ability/150/\"},\"is_hidden\":true,\"slot\":3}],\"base_experience\":101,\"cries\":{\"latest\":\"https://raw.githubusercontent.com/PokeAPI/cries/main/cries/pokemon/latest/132.ogg\",\"legacy\":\"https://raw.githubusercontent.com/PokeAPI/cries/main/cries/pokemon/legacy/132.ogg\"},\"forms\":[{\"name\":\"ditto\",\"url\":\"https://pokeapi.co/api/v2/pokemon-form/132/\"}],\"game_indices\":[{\"game_index\":76,\"version\":{\"name\":\"red\",\"url\":\"https://pokeapi.co/api/v2/version/1/\"}},{\"game_index\":76,\"version\":{\"name\":\"blue\",\"url\":\"https://pokeapi.co/api/v2/version/2/\"}},{\"game_index\":76,\"version\":{\"name\":\"yellow\",\"url\":\"https://pokeapi.co/api/v2/version/3/\"}},{\"game_index\":132,\"version\":{\"name\":\"gold\",\"url\":\"https://pokeapi.co/api/v2/version/4/\"}},{\"game_index\":132,\"version\":{\"name\":\"silver\",\"url\":\"https://pokeapi.co/api/v2/version/5/\"}},{\"game_index\":1'"
      ]
     },
     "execution_count": 4,
     "metadata": {},
     "output_type": "execute_result"
    }
   ],
   "source": [
    "# Preview the content\n",
    "body[:1000]"
   ]
  },
  {
   "cell_type": "markdown",
   "id": "d2ce7523-5d37-4bd0-84c7-474b5e745a67",
   "metadata": {},
   "source": [
    "According to the syntax, we might guess the format of the response body is [JSON](https://en.wikipedia.org/wiki/JSON)."
   ]
  },
  {
   "cell_type": "markdown",
   "id": "478131a4-6d61-424c-b7c5-a42c1b07f055",
   "metadata": {},
   "source": [
    "## Parse JSON Document"
   ]
  },
  {
   "cell_type": "code",
   "execution_count": 5,
   "id": "418990d6-f113-46c4-9be8-7c9b0e29eda7",
   "metadata": {},
   "outputs": [
    {
     "data": {
      "text/plain": [
       "dict_keys(['abilities', 'base_experience', 'cries', 'forms', 'game_indices', 'height', 'held_items', 'id', 'is_default', 'location_area_encounters', 'moves', 'name', 'order', 'past_abilities', 'past_types', 'species', 'sprites', 'stats', 'types', 'weight'])"
      ]
     },
     "execution_count": 5,
     "metadata": {},
     "output_type": "execute_result"
    }
   ],
   "source": [
    "# Parse JSON into Dict\n",
    "doc = json.loads(body)\n",
    "doc.keys()  # Preview the keys of the Dict"
   ]
  },
  {
   "cell_type": "markdown",
   "id": "846c64c1-dbd2-414c-81da-2ad480226114",
   "metadata": {},
   "source": [
    "It's confirmed that the format is JSON. We gonna dive in deeper into the document."
   ]
  },
  {
   "cell_type": "markdown",
   "id": "8dd08630-2f59-410a-be5d-14417091cad0",
   "metadata": {},
   "source": [
    "## Quiz: Get the Selfie of the Pokemon"
   ]
  },
  {
   "cell_type": "markdown",
   "id": "57f782c1-3637-4d70-8fe6-f27bb0ec0e1a",
   "metadata": {},
   "source": [
    "Wanna try to get the Pokémon's selfie?"
   ]
  },
  {
   "cell_type": "code",
   "execution_count": 6,
   "id": "a15f89d4-6aa8-43b8-82a6-f801bcde786a",
   "metadata": {},
   "outputs": [
    {
     "data": {
      "text/plain": [
       "dict_keys(['back_default', 'back_female', 'back_shiny', 'back_shiny_female', 'front_default', 'front_female', 'front_shiny', 'front_shiny_female', 'other', 'versions'])"
      ]
     },
     "execution_count": 6,
     "metadata": {},
     "output_type": "execute_result"
    }
   ],
   "source": [
    "# Start with \"sprites\" (https://pokeapi.co/docs/v2#pokemonsprites) key\n",
    "doc['sprites'].keys()"
   ]
  },
  {
   "cell_type": "markdown",
   "id": "62c05173-f552-4e0d-8c37-2206c534d06c",
   "metadata": {},
   "source": [
    "Try to display the \"front_default\" one!"
   ]
  },
  {
   "cell_type": "code",
   "execution_count": 7,
   "id": "05bdf022-34b8-403f-80eb-db9c4ba382e5",
   "metadata": {},
   "outputs": [
    {
     "data": {
      "text/plain": [
       "'https://raw.githubusercontent.com/PokeAPI/sprites/master/sprites/pokemon/132.png'"
      ]
     },
     "execution_count": 7,
     "metadata": {},
     "output_type": "execute_result"
    }
   ],
   "source": [
    "doc['sprites']['front_default']"
   ]
  },
  {
   "cell_type": "markdown",
   "id": "e1ebaf04-2901-455c-8aa3-2f3d8b3dcf0a",
   "metadata": {},
   "source": [
    "![Front Default Sprite](https://raw.githubusercontent.com/PokeAPI/sprites/master/sprites/pokemon/132.png)"
   ]
  },
  {
   "cell_type": "markdown",
   "id": "c94a5130-ac7f-4a8d-a0be-b1c2b3f1dc1a",
   "metadata": {},
   "source": [
    "It seems right. But it's too small......could we find a bigger one?"
   ]
  },
  {
   "cell_type": "code",
   "execution_count": 8,
   "id": "028747f6-8f50-4477-9e79-30787c937e28",
   "metadata": {},
   "outputs": [
    {
     "data": {
      "text/plain": [
       "dict_keys(['dream_world', 'home', 'official-artwork', 'showdown'])"
      ]
     },
     "execution_count": 8,
     "metadata": {},
     "output_type": "execute_result"
    }
   ],
   "source": [
    "# There is a strange key called \"other\"?\n",
    "doc['sprites']['other'].keys()"
   ]
  },
  {
   "cell_type": "code",
   "execution_count": 9,
   "id": "719ca0be-6f3c-4a58-bcc5-e51e987ab37c",
   "metadata": {},
   "outputs": [
    {
     "data": {
      "text/plain": [
       "{'front_default': 'https://raw.githubusercontent.com/PokeAPI/sprites/master/sprites/pokemon/other/official-artwork/132.png',\n",
       " 'front_shiny': 'https://raw.githubusercontent.com/PokeAPI/sprites/master/sprites/pokemon/other/official-artwork/shiny/132.png'}"
      ]
     },
     "execution_count": 9,
     "metadata": {},
     "output_type": "execute_result"
    }
   ],
   "source": [
    "# Maybe we are closing to the answer? take a look at it!\n",
    "doc['sprites']['other']['official-artwork']"
   ]
  },
  {
   "cell_type": "markdown",
   "id": "66cdb763-9350-4c62-beb5-373e96a7fc99",
   "metadata": {},
   "source": [
    "Gotcha! Let's display it!"
   ]
  },
  {
   "cell_type": "markdown",
   "id": "9b994352-98f3-47f2-a8db-b8b4a0c50867",
   "metadata": {},
   "source": [
    "![Ditto](https://raw.githubusercontent.com/PokeAPI/sprites/master/sprites/pokemon/other/official-artwork/132.png)"
   ]
  },
  {
   "cell_type": "markdown",
   "id": "55f7e6a0-40c1-4039-bfd5-73a5b9a684c5",
   "metadata": {},
   "source": [
    "> 💡 Is there anything interests you? Go find them out!"
   ]
  }
 ],
 "metadata": {
  "kernelspec": {
   "display_name": "Python 3 (ipykernel)",
   "language": "python",
   "name": "python3"
  },
  "language_info": {
   "codemirror_mode": {
    "name": "ipython",
    "version": 3
   },
   "file_extension": ".py",
   "mimetype": "text/x-python",
   "name": "python",
   "nbconvert_exporter": "python",
   "pygments_lexer": "ipython3",
   "version": "3.12.2"
  }
 },
 "nbformat": 4,
 "nbformat_minor": 5
}
