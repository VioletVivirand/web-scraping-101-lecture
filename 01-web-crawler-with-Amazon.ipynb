{
 "cells": [
  {
   "cell_type": "code",
   "execution_count": 1,
   "id": "c60c8212-1fe3-427a-bc72-3e05ffb2f505",
   "metadata": {},
   "outputs": [],
   "source": [
    "import requests\n",
    "from bs4 import BeautifulSoup"
   ]
  },
  {
   "cell_type": "markdown",
   "id": "0c10788d-0427-4655-a8ac-81a5eb946830",
   "metadata": {},
   "source": [
    "# Lecture 1: Make a Web Crawler to Fetch the Reviews from Amazon"
   ]
  },
  {
   "cell_type": "markdown",
   "id": "45174aa0-9737-4270-a401-2df87998b174",
   "metadata": {},
   "source": [
    "In this lecture, we make a script with [Requests](https://requests.readthedocs.io/en/latest/) and [BeautifulSoup4](https://www.crummy.com/software/BeautifulSoup/) Libraries to construct a simple Web Crawler, then make it fetch a product page of [Amazon](https://www.amazon.com/) and get the reviews of the product."
   ]
  },
  {
   "cell_type": "markdown",
   "id": "4f506012-6f87-48e3-bf2c-4819d4032fc2",
   "metadata": {},
   "source": [
    "## Send a HTTP Request to get the HTML"
   ]
  },
  {
   "cell_type": "code",
   "execution_count": 2,
   "id": "a5c56993-a346-4a00-b3b8-f987e26d1e40",
   "metadata": {},
   "outputs": [],
   "source": [
    "# Specify the URL we gonna fetch\n",
    "URL = \"https://www.amazon.com/Apple-iPhone-14-Pro-Max/dp/B0BYLZV28Y/\""
   ]
  },
  {
   "cell_type": "code",
   "execution_count": 3,
   "id": "ffd6dcd8-5c19-483c-9472-fb1337dfe574",
   "metadata": {
    "scrolled": true
   },
   "outputs": [],
   "source": [
    "# Make a HTTP request to fetch the HTML\n",
    "r = requests.get(URL)\n",
    "\n",
    "if r.ok:\n",
    "    html = r.text\n",
    "else:\n",
    "    raise"
   ]
  },
  {
   "cell_type": "code",
   "execution_count": 4,
   "id": "6b18c6dd-05ce-4c4b-9201-209a2b30bf77",
   "metadata": {},
   "outputs": [
    {
     "data": {
      "text/plain": [
       "'<!doctype html><html lang=\"en-us\" class=\"a-no-js\" data-19ax5a9jf=\"dingo\"><!-- sp:feature:head-start -->\\n<head><script>var aPageStart = (new Date()).getTime();</script><meta charset=\"utf-8\"/>\\n<!-- sp:end-feature:head-start -->\\n<!-- sp:feature:csm:head-open-part1 -->\\n\\n<script type=\\'text/javascript\\'>var ue_t0=ue_t0||+new Date();</script>\\n<!-- sp:end-feature:csm:head-open-part1 -->\\n<!-- sp:feature:cs-optimization -->\\n<meta http-equiv=\\'x-dns-prefetch-control\\' content=\\'on\\'>\\n<link rel=\"dns-prefetch\" href=\"https://images-na.ssl-images-amazon.com\">\\n<link rel=\"dns-prefetch\" href=\"https://m.media-amazon.com\">\\n<link rel=\"dns-prefetch\" href=\"https://completion.amazon.com\">\\n<!-- sp:end-feature:cs-optimization -->\\n<!-- sp:feature:csm:head-open-part2 -->\\n<script type=\\'text/javascript\\'>\\nwindow.ue_ihb = (window.ue_ihb || window.ueinit || 0) + 1;\\nif (window.ue_ihb === 1) {\\n\\nvar ue_csm = window,\\n    ue_hob = +new Date();\\n(function(d){var e=d.ue=d.ue||{},f=Date.now||function(){return+new Date};e.d=function'"
      ]
     },
     "execution_count": 4,
     "metadata": {},
     "output_type": "execute_result"
    }
   ],
   "source": [
    "# Preview the content\n",
    "html[:1000]"
   ]
  },
  {
   "cell_type": "markdown",
   "id": "6a23f12c-4ad8-4789-81be-24ba3d027a39",
   "metadata": {},
   "source": [
    "## Navigate the HTML elements and Find the Reviews"
   ]
  },
  {
   "cell_type": "markdown",
   "id": "aa5d962f-3c93-43db-a3c2-61b4917f9798",
   "metadata": {},
   "source": [
    "To select the HTML elements which the reviews belong to. Open the DevTools of the browser, observe the sturcture of the targets, try to find the features that can differentiate between the related and unrelated elements.\n",
    "\n",
    "The example below chooses [CSS selectors](https://developer.mozilla.org/en-US/docs/Learn/CSS/Building_blocks/Selectors) to target the specific elements."
   ]
  },
  {
   "cell_type": "code",
   "execution_count": 5,
   "id": "0eb7b6cb-061a-4780-8d2d-fa570384cbf4",
   "metadata": {},
   "outputs": [],
   "source": [
    "# Initialize with BeautifulSoup Construct\n",
    "soup = BeautifulSoup(html, 'html5lib')"
   ]
  },
  {
   "cell_type": "code",
   "execution_count": 6,
   "id": "70187fb4-3532-4e7b-873e-59e748ff3a86",
   "metadata": {
    "scrolled": true
   },
   "outputs": [],
   "source": [
    "# Select the targets with CSS selector\n",
    "spans = soup.css.select(\".a-expander-content.reviewText.review-text-content.a-expander-partial-collapse-content > span\")"
   ]
  },
  {
   "cell_type": "code",
   "execution_count": 7,
   "id": "9de19e67-8550-4718-93c9-262f8960ff1e",
   "metadata": {},
   "outputs": [
    {
     "data": {
      "text/plain": [
       "'iPhone came in perfect condition, practically like new. Not a single scratch or dent on the front, back, sides or camera. Everything works so far. It’s internationally unlocked for anybody wondering, but eSIM only. Charger and cable (not Apple)  provided are good enough to use as spares, since luckily I already have an original Apple charger and cable.iPhone came with 91% battery health, which was a bit disappointing since I was expecting to be one of the lucky ones with 100%, but I got lucky with pretty much all the rest, so it wouldn’t be fair to give it less than 5 stars just because of that. Recommended.'"
      ]
     },
     "execution_count": 7,
     "metadata": {},
     "output_type": "execute_result"
    }
   ],
   "source": [
    "# Print the first review\n",
    "spans[0].text"
   ]
  },
  {
   "cell_type": "markdown",
   "id": "284f5876-3b21-41df-96e3-fb8d72d734ad",
   "metadata": {},
   "source": [
    "> ❓ Could you find a better way to pick them out?"
   ]
  }
 ],
 "metadata": {
  "kernelspec": {
   "display_name": "Python 3 (ipykernel)",
   "language": "python",
   "name": "python3"
  },
  "language_info": {
   "codemirror_mode": {
    "name": "ipython",
    "version": 3
   },
   "file_extension": ".py",
   "mimetype": "text/x-python",
   "name": "python",
   "nbconvert_exporter": "python",
   "pygments_lexer": "ipython3",
   "version": "3.12.2"
  }
 },
 "nbformat": 4,
 "nbformat_minor": 5
}
